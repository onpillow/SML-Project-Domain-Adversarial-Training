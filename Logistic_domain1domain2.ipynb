{
 "cells": [
  {
   "cell_type": "code",
   "execution_count": 1,
   "id": "00ef345e",
   "metadata": {},
   "outputs": [],
   "source": [
    "import json\n",
    "import numpy as np\n",
    "import pandas as pd\n",
    "import matplotlib.pyplot as plt\n",
    "from collections import Counter\n",
    "from sklearn.model_selection import train_test_split\n",
    "from sklearn.metrics import f1_score, accuracy_score, classification_report, confusion_matrix\n",
    "\n",
    "from sklearn.preprocessing import MinMaxScaler\n",
    "from sklearn.preprocessing import StandardScaler"
   ]
  },
  {
   "cell_type": "code",
   "execution_count": 2,
   "id": "deb68d7f",
   "metadata": {},
   "outputs": [],
   "source": [
    "# load files\n",
    "domain2 = pd.read_json(\"./Data/domain2_train.json\", lines = True)\n",
    "domain1 = pd.read_json(\"./Data/domain1_train.json\", lines = True)"
   ]
  },
  {
   "cell_type": "code",
   "execution_count": 3,
   "id": "39960b35",
   "metadata": {},
   "outputs": [],
   "source": [
    "X2_train, X2_test = train_test_split(domain2, test_size=0.2, random_state=90051)"
   ]
  },
  {
   "cell_type": "code",
   "execution_count": 4,
   "id": "89043c80",
   "metadata": {},
   "outputs": [],
   "source": [
    "from sklearn.feature_extraction.text import CountVectorizer\n",
    "vectorizer = CountVectorizer() \n",
    "\n",
    "X2_train_vec = vectorizer.fit_transform([' '.join(str(word_id) for word_id in doc) for doc in X2_train['text']]).toarray()\n",
    "X2_test_vec = vectorizer.transform([' '.join(str(word_id) for word_id in doc) for doc in X2_test['text']]).toarray()\n",
    "test_vec = vectorizer.transform([' '.join(str(word_id) for word_id in doc) for doc in domain1['text']]).toarray()"
   ]
  },
  {
   "cell_type": "markdown",
   "id": "21d0fff7",
   "metadata": {},
   "source": [
    "## Method 1: Single Model on domain 2\n",
    "Train a model on domain 2 using Logistic regression, test on domain 1"
   ]
  },
  {
   "cell_type": "code",
   "execution_count": 5,
   "id": "b48e9778",
   "metadata": {},
   "outputs": [
    {
     "name": "stderr",
     "output_type": "stream",
     "text": [
      "c:\\Users\\Lenovo\\anaconda3\\Lib\\site-packages\\sklearn\\linear_model\\_logistic.py:458: ConvergenceWarning: lbfgs failed to converge (status=1):\n",
      "STOP: TOTAL NO. of ITERATIONS REACHED LIMIT.\n",
      "\n",
      "Increase the number of iterations (max_iter) or scale the data as shown in:\n",
      "    https://scikit-learn.org/stable/modules/preprocessing.html\n",
      "Please also refer to the documentation for alternative solver options:\n",
      "    https://scikit-learn.org/stable/modules/linear_model.html#logistic-regression\n",
      "  n_iter_i = _check_optimize_result(\n"
     ]
    },
    {
     "data": {
      "text/html": [
       "<style>#sk-container-id-1 {color: black;background-color: white;}#sk-container-id-1 pre{padding: 0;}#sk-container-id-1 div.sk-toggleable {background-color: white;}#sk-container-id-1 label.sk-toggleable__label {cursor: pointer;display: block;width: 100%;margin-bottom: 0;padding: 0.3em;box-sizing: border-box;text-align: center;}#sk-container-id-1 label.sk-toggleable__label-arrow:before {content: \"▸\";float: left;margin-right: 0.25em;color: #696969;}#sk-container-id-1 label.sk-toggleable__label-arrow:hover:before {color: black;}#sk-container-id-1 div.sk-estimator:hover label.sk-toggleable__label-arrow:before {color: black;}#sk-container-id-1 div.sk-toggleable__content {max-height: 0;max-width: 0;overflow: hidden;text-align: left;background-color: #f0f8ff;}#sk-container-id-1 div.sk-toggleable__content pre {margin: 0.2em;color: black;border-radius: 0.25em;background-color: #f0f8ff;}#sk-container-id-1 input.sk-toggleable__control:checked~div.sk-toggleable__content {max-height: 200px;max-width: 100%;overflow: auto;}#sk-container-id-1 input.sk-toggleable__control:checked~label.sk-toggleable__label-arrow:before {content: \"▾\";}#sk-container-id-1 div.sk-estimator input.sk-toggleable__control:checked~label.sk-toggleable__label {background-color: #d4ebff;}#sk-container-id-1 div.sk-label input.sk-toggleable__control:checked~label.sk-toggleable__label {background-color: #d4ebff;}#sk-container-id-1 input.sk-hidden--visually {border: 0;clip: rect(1px 1px 1px 1px);clip: rect(1px, 1px, 1px, 1px);height: 1px;margin: -1px;overflow: hidden;padding: 0;position: absolute;width: 1px;}#sk-container-id-1 div.sk-estimator {font-family: monospace;background-color: #f0f8ff;border: 1px dotted black;border-radius: 0.25em;box-sizing: border-box;margin-bottom: 0.5em;}#sk-container-id-1 div.sk-estimator:hover {background-color: #d4ebff;}#sk-container-id-1 div.sk-parallel-item::after {content: \"\";width: 100%;border-bottom: 1px solid gray;flex-grow: 1;}#sk-container-id-1 div.sk-label:hover label.sk-toggleable__label {background-color: #d4ebff;}#sk-container-id-1 div.sk-serial::before {content: \"\";position: absolute;border-left: 1px solid gray;box-sizing: border-box;top: 0;bottom: 0;left: 50%;z-index: 0;}#sk-container-id-1 div.sk-serial {display: flex;flex-direction: column;align-items: center;background-color: white;padding-right: 0.2em;padding-left: 0.2em;position: relative;}#sk-container-id-1 div.sk-item {position: relative;z-index: 1;}#sk-container-id-1 div.sk-parallel {display: flex;align-items: stretch;justify-content: center;background-color: white;position: relative;}#sk-container-id-1 div.sk-item::before, #sk-container-id-1 div.sk-parallel-item::before {content: \"\";position: absolute;border-left: 1px solid gray;box-sizing: border-box;top: 0;bottom: 0;left: 50%;z-index: -1;}#sk-container-id-1 div.sk-parallel-item {display: flex;flex-direction: column;z-index: 1;position: relative;background-color: white;}#sk-container-id-1 div.sk-parallel-item:first-child::after {align-self: flex-end;width: 50%;}#sk-container-id-1 div.sk-parallel-item:last-child::after {align-self: flex-start;width: 50%;}#sk-container-id-1 div.sk-parallel-item:only-child::after {width: 0;}#sk-container-id-1 div.sk-dashed-wrapped {border: 1px dashed gray;margin: 0 0.4em 0.5em 0.4em;box-sizing: border-box;padding-bottom: 0.4em;background-color: white;}#sk-container-id-1 div.sk-label label {font-family: monospace;font-weight: bold;display: inline-block;line-height: 1.2em;}#sk-container-id-1 div.sk-label-container {text-align: center;}#sk-container-id-1 div.sk-container {/* jupyter's `normalize.less` sets `[hidden] { display: none; }` but bootstrap.min.css set `[hidden] { display: none !important; }` so we also need the `!important` here to be able to override the default hidden behavior on the sphinx rendered scikit-learn.org. See: https://github.com/scikit-learn/scikit-learn/issues/21755 */display: inline-block !important;position: relative;}#sk-container-id-1 div.sk-text-repr-fallback {display: none;}</style><div id=\"sk-container-id-1\" class=\"sk-top-container\"><div class=\"sk-text-repr-fallback\"><pre>LogisticRegression()</pre><b>In a Jupyter environment, please rerun this cell to show the HTML representation or trust the notebook. <br />On GitHub, the HTML representation is unable to render, please try loading this page with nbviewer.org.</b></div><div class=\"sk-container\" hidden><div class=\"sk-item\"><div class=\"sk-estimator sk-toggleable\"><input class=\"sk-toggleable__control sk-hidden--visually\" id=\"sk-estimator-id-1\" type=\"checkbox\" checked><label for=\"sk-estimator-id-1\" class=\"sk-toggleable__label sk-toggleable__label-arrow\">LogisticRegression</label><div class=\"sk-toggleable__content\"><pre>LogisticRegression()</pre></div></div></div></div></div>"
      ],
      "text/plain": [
       "LogisticRegression()"
      ]
     },
     "execution_count": 5,
     "metadata": {},
     "output_type": "execute_result"
    }
   ],
   "source": [
    "from sklearn.linear_model import LogisticRegression\n",
    "lr = LogisticRegression()\n",
    "lr.fit(X2_train_vec, X2_train['label'])"
   ]
  },
  {
   "cell_type": "code",
   "execution_count": 6,
   "id": "17f17ac5",
   "metadata": {},
   "outputs": [
    {
     "name": "stdout",
     "output_type": "stream",
     "text": [
      "training score: 0.9383389261744967\n",
      "test score: 0.8060402684563759\n",
      "accuracy on domain 1: 0.46682051282051285\n"
     ]
    }
   ],
   "source": [
    "print(\"training score: {}\".format(lr.score(X2_train_vec, X2_train['label'])))\n",
    "print(\"test score: {}\".format(lr.score(X2_test_vec, X2_test['label'])))\n",
    "print(\"accuracy on domain 1: {}\".format(lr.score(test_vec, domain1['label'])))\n",
    "# print(classification_report(domain1['label'], lr.predict(test_vec)))\n",
    "\n",
    "# from sklearn.metrics import ConfusionMatrixDisplay\n",
    "# cm = ConfusionMatrixDisplay(confusion_matrix=confusion_matrix(domain1['label'], lr.predict(test_vec)))\n",
    "# cm.plot()"
   ]
  },
  {
   "cell_type": "markdown",
   "id": "5230c604",
   "metadata": {},
   "source": [
    "This model performs badly as the accuracy is low."
   ]
  },
  {
   "cell_type": "markdown",
   "id": "6bc2e65d",
   "metadata": {},
   "source": [
    "## Single Model on domain 2 with label imbalance solved"
   ]
  },
  {
   "cell_type": "code",
   "execution_count": 7,
   "id": "70b7a577",
   "metadata": {},
   "outputs": [
    {
     "name": "stderr",
     "output_type": "stream",
     "text": [
      "c:\\Users\\Lenovo\\anaconda3\\Lib\\site-packages\\sklearn\\linear_model\\_logistic.py:458: ConvergenceWarning: lbfgs failed to converge (status=1):\n",
      "STOP: TOTAL NO. of ITERATIONS REACHED LIMIT.\n",
      "\n",
      "Increase the number of iterations (max_iter) or scale the data as shown in:\n",
      "    https://scikit-learn.org/stable/modules/preprocessing.html\n",
      "Please also refer to the documentation for alternative solver options:\n",
      "    https://scikit-learn.org/stable/modules/linear_model.html#logistic-regression\n",
      "  n_iter_i = _check_optimize_result(\n"
     ]
    },
    {
     "name": "stdout",
     "output_type": "stream",
     "text": [
      "training score: 0.8924496644295302\n",
      "test score: 0.7204697986577181\n",
      "accuracy on domain 1: 0.49743589743589745\n"
     ]
    }
   ],
   "source": [
    "lr = LogisticRegression(class_weight='balanced')\n",
    "lr.fit(X2_train_vec, X2_train['label'])\n",
    "\n",
    "print(\"training score: {}\".format(lr.score(X2_train_vec, X2_train['label'])))\n",
    "print(\"test score: {}\".format(lr.score(X2_test_vec, X2_test['label'])))\n",
    "print(\"accuracy on domain 1: {}\".format(lr.score(test_vec, domain1['label'])))"
   ]
  },
  {
   "cell_type": "markdown",
   "id": "df4529c3",
   "metadata": {},
   "source": [
    "Accuracy on domain 1 increased slightly, but training and test score decreased more. So this method handling label imbalance is not effective. "
   ]
  },
  {
   "cell_type": "markdown",
   "id": "6c57dd6c",
   "metadata": {},
   "source": [
    "## Method 2: Weighted ensemble\n",
    "Try to solve the domain problem, using ensemble learning.\n",
    "\n",
    "$$prediction= \\frac{weight_1×prob_1+weight_2×prob_2}{weight_1+weight_2}$$\n",
    "​where $weight_1$ is the accuracy of model 1 and $weight_2$ is the accuracy of model 2.\n",
    " \n"
   ]
  },
  {
   "cell_type": "code",
   "execution_count": 8,
   "id": "87cf28af",
   "metadata": {},
   "outputs": [],
   "source": [
    "# Splitting the datasets into training and testing sets\n",
    "X1_train, X1_test = train_test_split(domain1, test_size=0.2, random_state=90051)\n",
    "X2_train, X2_test = train_test_split(domain2, test_size=0.2, random_state=90051)\n",
    "\n",
    "X1_train_vec = vectorizer.fit_transform([' '.join(str(word_id) for word_id in doc) for doc in X1_train['text']]).toarray()\n",
    "X1_test_vec = vectorizer.transform([' '.join(str(word_id) for word_id in doc) for doc in X1_test['text']]).toarray()\n",
    "X2_train_vec = vectorizer.fit_transform([' '.join(str(word_id) for word_id in doc) for doc in X2_train['text']]).toarray()\n",
    "X2_test_vec = vectorizer.transform([' '.join(str(word_id) for word_id in doc) for doc in X2_test['text']]).toarray()"
   ]
  },
  {
   "cell_type": "code",
   "execution_count": 13,
   "id": "0bb36111",
   "metadata": {},
   "outputs": [],
   "source": [
    "# ensure same number of features for both models\n",
    "X2_train_vec_trunc = X2_train_vec[:, :X1_train_vec.shape[1]]\n",
    "X2_test_vec_trunc = X2_test_vec[:, :X1_test_vec.shape[1]]"
   ]
  },
  {
   "cell_type": "code",
   "execution_count": 14,
   "id": "f72cd099",
   "metadata": {},
   "outputs": [
    {
     "name": "stderr",
     "output_type": "stream",
     "text": [
      "c:\\Users\\Lenovo\\anaconda3\\Lib\\site-packages\\sklearn\\linear_model\\_logistic.py:458: ConvergenceWarning: lbfgs failed to converge (status=1):\n",
      "STOP: TOTAL NO. of ITERATIONS REACHED LIMIT.\n",
      "\n",
      "Increase the number of iterations (max_iter) or scale the data as shown in:\n",
      "    https://scikit-learn.org/stable/modules/preprocessing.html\n",
      "Please also refer to the documentation for alternative solver options:\n",
      "    https://scikit-learn.org/stable/modules/linear_model.html#logistic-regression\n",
      "  n_iter_i = _check_optimize_result(\n",
      "c:\\Users\\Lenovo\\anaconda3\\Lib\\site-packages\\sklearn\\linear_model\\_logistic.py:458: ConvergenceWarning: lbfgs failed to converge (status=1):\n",
      "STOP: TOTAL NO. of ITERATIONS REACHED LIMIT.\n",
      "\n",
      "Increase the number of iterations (max_iter) or scale the data as shown in:\n",
      "    https://scikit-learn.org/stable/modules/preprocessing.html\n",
      "Please also refer to the documentation for alternative solver options:\n",
      "    https://scikit-learn.org/stable/modules/linear_model.html#logistic-regression\n",
      "  n_iter_i = _check_optimize_result(\n"
     ]
    },
    {
     "data": {
      "text/plain": [
       "(0.9102564102564102, 0.8063758389261745)"
      ]
     },
     "execution_count": 14,
     "metadata": {},
     "output_type": "execute_result"
    }
   ],
   "source": [
    "# Train a logistic regression model on each dataset\n",
    "model1 = LogisticRegression().fit(X1_train_vec, X1_train['label'])\n",
    "model2 = LogisticRegression().fit(X2_train_vec_trunc, X2_train['label'])\n",
    "\n",
    "# Get accuracy on test data for both models\n",
    "accuracy1 = model1.score(X1_test_vec, X1_test['label'])\n",
    "accuracy2 = model2.score(X2_test_vec_trunc, X2_test['label'])\n",
    "\n",
    "accuracy1, accuracy2"
   ]
  },
  {
   "cell_type": "markdown",
   "id": "a0e30026",
   "metadata": {},
   "source": [
    "Fit logistic regression on two domains seperately, the accuracy for domain 1 and domain 2 are 0.9103 and 0.8064 respectively."
   ]
  },
  {
   "cell_type": "code",
   "execution_count": 17,
   "id": "53406d1b",
   "metadata": {},
   "outputs": [
    {
     "data": {
      "text/plain": [
       "(0.8602564102564103, 0.687248322147651)"
      ]
     },
     "execution_count": 17,
     "metadata": {},
     "output_type": "execute_result"
    }
   ],
   "source": [
    "def weighted_ensemble_prediction(model1, model2, weight1, weight2, X):\n",
    "    \"\"\"Compute weighted ensemble predictions for given input data.\"\"\"\n",
    "    proba1 = model1.predict_proba(X)[:, 1]  # Probability for positive class from model 1\n",
    "    proba2 = model2.predict_proba(X)[:, 1]  # Probability for positive class from model 2\n",
    "    \n",
    "    weighted_proba = (weight1 * proba1 + weight2 * proba2) / (weight1 + weight2)\n",
    "    \n",
    "    return (weighted_proba > 0.5).astype(int)\n",
    "\n",
    "# Compute ensemble predictions for test data from both datasets\n",
    "y1_pred_ensemble = weighted_ensemble_prediction(model1, model2, accuracy1, accuracy2, X1_test_vec)\n",
    "y2_pred_ensemble = weighted_ensemble_prediction(model1, model2, accuracy1, accuracy2, X2_test_vec_trunc)\n",
    "\n",
    "# Compute accuracy for ensemble predictions\n",
    "accuracy1_ensemble = np.mean(y1_pred_ensemble == X1_test['label'])\n",
    "accuracy2_ensemble = np.mean(y2_pred_ensemble == X2_test['label'])\n",
    "\n",
    "accuracy1_ensemble, accuracy2_ensemble"
   ]
  },
  {
   "cell_type": "markdown",
   "id": "944351e2",
   "metadata": {},
   "source": [
    "Using ensemble learning, the accuracy for domain 1 and domain 2 are 0.8603 and 0.6872 respectively."
   ]
  },
  {
   "cell_type": "markdown",
   "id": "4336dc83",
   "metadata": {},
   "source": [
    "## Method 3: combine two datasets\n",
    "try to solve domain problem\n",
    "\n",
    "training data: all of domain 2 + 80% of domain 1\n",
    "\n",
    "test data: remaining 20% of domain 1"
   ]
  },
  {
   "cell_type": "code",
   "execution_count": 58,
   "id": "ea60e852",
   "metadata": {},
   "outputs": [],
   "source": [
    "# Splitting domain 1 into 80% training and 20% testing\n",
    "X1_train_new, X1_test_new = train_test_split(domain1, test_size=0.2, random_state=90051)\n",
    "\n",
    "# drop 'model' to have the same strcuture as in domain 1\n",
    "domain2_new = domain2.drop(columns=['model'])\n",
    "\n",
    "# Combining all of domain 2 and 80% of domain 1 for the training set\n",
    "X_train_combined = pd.concat([X1_train_new, domain2_new])\n",
    "\n",
    "# The test set remains as the 20% from domain 1\n",
    "X_test_combined = X1_test_new\n",
    "\n",
    "X_train_combined_vec = vectorizer.fit_transform([' '.join(str(word_id) for word_id in doc) for doc in X_train_combined['text']]).toarray()\n",
    "X_test_combined_vec = vectorizer.transform([' '.join(str(word_id) for word_id in doc) for doc in X_test_combined['text']]).toarray()"
   ]
  },
  {
   "cell_type": "code",
   "execution_count": 59,
   "id": "3bb9302a",
   "metadata": {},
   "outputs": [
    {
     "name": "stderr",
     "output_type": "stream",
     "text": [
      "c:\\Users\\Lenovo\\anaconda3\\Lib\\site-packages\\sklearn\\linear_model\\_logistic.py:458: ConvergenceWarning: lbfgs failed to converge (status=1):\n",
      "STOP: TOTAL NO. of ITERATIONS REACHED LIMIT.\n",
      "\n",
      "Increase the number of iterations (max_iter) or scale the data as shown in:\n",
      "    https://scikit-learn.org/stable/modules/preprocessing.html\n",
      "Please also refer to the documentation for alternative solver options:\n",
      "    https://scikit-learn.org/stable/modules/linear_model.html#logistic-regression\n",
      "  n_iter_i = _check_optimize_result(\n"
     ]
    },
    {
     "name": "stdout",
     "output_type": "stream",
     "text": [
      "training score: 0.9019344262295081\n",
      "test score: 0.8684615384615385\n"
     ]
    }
   ],
   "source": [
    "lr = LogisticRegression()\n",
    "lr.fit(X_train_combined_vec, X_train_combined['label'])\n",
    "\n",
    "print(\"training score: {}\".format(lr.score(X_train_combined_vec, X_train_combined['label'])))\n",
    "print(\"test score: {}\".format(lr.score(X_test_combined_vec, X_test_combined['label'])))"
   ]
  },
  {
   "cell_type": "code",
   "execution_count": 60,
   "id": "ec4e353d",
   "metadata": {},
   "outputs": [
    {
     "name": "stdout",
     "output_type": "stream",
     "text": [
      "              precision    recall  f1-score   support\n",
      "\n",
      "           0       0.89      0.84      0.86      1939\n",
      "           1       0.85      0.89      0.87      1961\n",
      "\n",
      "    accuracy                           0.87      3900\n",
      "   macro avg       0.87      0.87      0.87      3900\n",
      "weighted avg       0.87      0.87      0.87      3900\n",
      "\n"
     ]
    },
    {
     "data": {
      "image/png": "[encoded data removed]",
      "text/plain": [
       "<Figure size 640x480 with 2 Axes>"
      ]
     },
     "metadata": {},
     "output_type": "display_data"
    }
   ],
   "source": [
    "from sklearn.metrics import ConfusionMatrixDisplay\n",
    "cm = ConfusionMatrixDisplay(confusion_matrix=confusion_matrix(X_test_combined['label'], lr.predict(X_test_combined_vec)))\n",
    "cm.plot()\n",
    "print(classification_report(X_test_combined['label'], lr.predict(X_test_combined_vec)))"
   ]
  },
  {
   "cell_type": "markdown",
   "id": "e0f6ef38",
   "metadata": {},
   "source": [
    "The model has better performance than above ones. Then train on full model to predict test_set\n",
    "## Kaggle predict"
   ]
  },
  {
   "cell_type": "code",
   "execution_count": 48,
   "id": "b5e9ac86",
   "metadata": {},
   "outputs": [],
   "source": [
    "test = pd.read_json(\"./Data/test_set.json\", lines = True)"
   ]
  },
  {
   "cell_type": "code",
   "execution_count": 49,
   "id": "bb0924ea",
   "metadata": {},
   "outputs": [],
   "source": [
    "# Combining all of domain 2 and domain 1 for the training set\n",
    "train_combined = pd.concat([domain1, domain2_new])\n",
    "\n",
    "train_combined_vec = vectorizer.fit_transform([' '.join(str(word_id) for word_id in doc) for doc in train_combined['text']]).toarray()\n",
    "test_vec = vectorizer.transform([' '.join(str(word_id) for word_id in doc) for doc in test['text']]).toarray()"
   ]
  },
  {
   "cell_type": "code",
   "execution_count": 50,
   "id": "dec74e07",
   "metadata": {},
   "outputs": [
    {
     "name": "stderr",
     "output_type": "stream",
     "text": [
      "c:\\Users\\Lenovo\\anaconda3\\Lib\\site-packages\\sklearn\\linear_model\\_logistic.py:458: ConvergenceWarning: lbfgs failed to converge (status=1):\n",
      "STOP: TOTAL NO. of ITERATIONS REACHED LIMIT.\n",
      "\n",
      "Increase the number of iterations (max_iter) or scale the data as shown in:\n",
      "    https://scikit-learn.org/stable/modules/preprocessing.html\n",
      "Please also refer to the documentation for alternative solver options:\n",
      "    https://scikit-learn.org/stable/modules/linear_model.html#logistic-regression\n",
      "  n_iter_i = _check_optimize_result(\n"
     ]
    }
   ],
   "source": [
    "lr = LogisticRegression()\n",
    "lr.fit(train_combined_vec, train_combined['label'])\n",
    "test_predictions = lr.predict(test_vec)"
   ]
  },
  {
   "cell_type": "code",
   "execution_count": 51,
   "id": "87c583f6",
   "metadata": {},
   "outputs": [
    {
     "data": {
      "text/plain": [
       "'./Data/logistic_domain1+2.csv'"
      ]
     },
     "execution_count": 51,
     "metadata": {},
     "output_type": "execute_result"
    }
   ],
   "source": [
    "# Create a DataFrame with IDs and predictions\n",
    "result_df = pd.DataFrame({\n",
    "    'id': test['id'],\n",
    "    'class': test_predictions\n",
    "})\n",
    "\n",
    "# Save the results to a CSV file\n",
    "csv_file_path = \"./Data/logistic_domain1+2.csv\"\n",
    "result_df.to_csv(csv_file_path, index=False)\n",
    "\n",
    "csv_file_path"
   ]
  },
  {
   "cell_type": "markdown",
   "id": "4871d69a",
   "metadata": {},
   "source": [
    "## Method 4: Combine two datasets + weighted class\n",
    "try to solve label imbalance"
   ]
  },
  {
   "cell_type": "code",
   "execution_count": 52,
   "id": "38d0a671",
   "metadata": {},
   "outputs": [],
   "source": [
    "# Splitting domain 1 into 80% training and 20% testing\n",
    "X1_train_new, X1_test_new = train_test_split(domain1, test_size=0.2, random_state=90051)\n",
    "\n",
    "# drop 'model' to have the same strcuture as in domain 1\n",
    "domain2_new = domain2.drop(columns=['model'])\n",
    "\n",
    "# Combining all of domain 2 and 80% of domain 1 for the training set\n",
    "X_train_combined = pd.concat([X1_train_new, domain2_new])\n",
    "\n",
    "# The test set remains as the 20% from domain 1\n",
    "X_test_combined = X1_test_new\n",
    "\n",
    "X_train_combined_vec = vectorizer.fit_transform([' '.join(str(word_id) for word_id in doc) for doc in X_train_combined['text']]).toarray()\n",
    "X_test_combined_vec = vectorizer.transform([' '.join(str(word_id) for word_id in doc) for doc in X_test_combined['text']]).toarray()"
   ]
  },
  {
   "cell_type": "code",
   "execution_count": 53,
   "id": "f1623696",
   "metadata": {},
   "outputs": [
    {
     "name": "stderr",
     "output_type": "stream",
     "text": [
      "c:\\Users\\Lenovo\\anaconda3\\Lib\\site-packages\\sklearn\\linear_model\\_logistic.py:458: ConvergenceWarning: lbfgs failed to converge (status=1):\n",
      "STOP: TOTAL NO. of ITERATIONS REACHED LIMIT.\n",
      "\n",
      "Increase the number of iterations (max_iter) or scale the data as shown in:\n",
      "    https://scikit-learn.org/stable/modules/preprocessing.html\n",
      "Please also refer to the documentation for alternative solver options:\n",
      "    https://scikit-learn.org/stable/modules/linear_model.html#logistic-regression\n",
      "  n_iter_i = _check_optimize_result(\n"
     ]
    },
    {
     "name": "stdout",
     "output_type": "stream",
     "text": [
      "training score: 0.8835409836065574\n",
      "test score: 0.8753846153846154\n"
     ]
    }
   ],
   "source": [
    "lr = LogisticRegression(class_weight='balanced')\n",
    "lr.fit(X_train_combined_vec, X_train_combined['label'])\n",
    "\n",
    "print(\"training score: {}\".format(lr.score(X_train_combined_vec, X_train_combined['label'])))\n",
    "print(\"test score: {}\".format(lr.score(X_test_combined_vec, X_test_combined['label'])))"
   ]
  },
  {
   "cell_type": "code",
   "execution_count": 57,
   "id": "92932ca2",
   "metadata": {},
   "outputs": [
    {
     "name": "stdout",
     "output_type": "stream",
     "text": [
      "              precision    recall  f1-score   support\n",
      "\n",
      "           0       0.93      0.81      0.87      1939\n",
      "           1       0.83      0.94      0.88      1961\n",
      "\n",
      "    accuracy                           0.88      3900\n",
      "   macro avg       0.88      0.88      0.87      3900\n",
      "weighted avg       0.88      0.88      0.87      3900\n",
      "\n"
     ]
    },
    {
     "data": {
      "image/png": "[encoded data removed]",
      "text/plain": [
       "<Figure size 640x480 with 2 Axes>"
      ]
     },
     "metadata": {},
     "output_type": "display_data"
    }
   ],
   "source": [
    "from sklearn.metrics import ConfusionMatrixDisplay\n",
    "cm = ConfusionMatrixDisplay(confusion_matrix=confusion_matrix(X_test_combined['label'], lr.predict(X_test_combined_vec)))\n",
    "cm.plot()\n",
    "print(classification_report(X_test_combined['label'], lr.predict(X_test_combined_vec)))"
   ]
  },
  {
   "cell_type": "markdown",
   "id": "5a0ec5e2",
   "metadata": {},
   "source": [
    "The decrease in traning score is larger than increase in test score. Both instance using LogisticRegression(class_weight='balanced') show little imrpovement."
   ]
  },
  {
   "cell_type": "markdown",
   "id": "e73eee9f",
   "metadata": {},
   "source": [
    "Logistic regression 尝试了以下方式\n",
    "1. single model on domain 2, also modified for label imbalance problem, but with little improvement\n",
    "2. weighted ensemble for domain problem, result is better than method 1\n",
    "3. combine two datasets, result is significantly better than method 2, kaggle accuracy 0.738\n",
    "4. modified method 3 for label imbalance problem, little improvement"
   ]
  }
 ],
 "metadata": {
  "kernelspec": {
   "display_name": "Python 3 (ipykernel)",
   "language": "python",
   "name": "python3"
  },
  "language_info": {
   "codemirror_mode": {
    "name": "ipython",
    "version": 3
   },
   "file_extension": ".py",
   "mimetype": "text/x-python",
   "name": "python",
   "nbconvert_exporter": "python",
   "pygments_lexer": "ipython3",
   "version": "3.11.3"
  }
 },
 "nbformat": 4,
 "nbformat_minor": 5
}
